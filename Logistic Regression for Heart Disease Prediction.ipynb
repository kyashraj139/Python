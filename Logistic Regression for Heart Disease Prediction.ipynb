{
 "cells": [
  {
   "cell_type": "code",
   "execution_count": 5,
   "metadata": {},
   "outputs": [],
   "source": [
    "import pandas as pd \n",
    "import pylab as pl \n",
    "import numpy as np \n",
    "import scipy.optimize as opt \n",
    "import statsmodels.api as sm \n",
    "from sklearn import preprocessing \n",
    "'exec(% matplotlib inline)'\n",
    "import matplotlib.pyplot as plt \n",
    "import matplotlib.mlab as mlab \n",
    "import seaborn as sn \n",
    "import os\n"
   ]
  },
  {
   "cell_type": "code",
   "execution_count": 6,
   "metadata": {},
   "outputs": [],
   "source": [
    "os.chdir('C://Users//yashr//Downloads//')"
   ]
  },
  {
   "cell_type": "code",
   "execution_count": 8,
   "metadata": {},
   "outputs": [],
   "source": [
    "# dataset \n",
    "disease_df = pd.read_csv('framingham.csv') \n",
    "disease_df.drop(['education'], inplace = True, axis = 1) \n",
    "disease_df.rename(columns ={'male':'Sex_male'}, inplace = True) "
   ]
  },
  {
   "cell_type": "code",
   "execution_count": 9,
   "metadata": {},
   "outputs": [
    {
     "name": "stdout",
     "output_type": "stream",
     "text": [
      "   Sex_male  age  currentSmoker  cigsPerDay  BPMeds  prevalentStroke  \\\n",
      "0         1   39              0         0.0     0.0                0   \n",
      "1         0   46              0         0.0     0.0                0   \n",
      "2         1   48              1        20.0     0.0                0   \n",
      "3         0   61              1        30.0     0.0                0   \n",
      "4         0   46              1        23.0     0.0                0   \n",
      "\n",
      "   prevalentHyp  diabetes  totChol  sysBP  diaBP    BMI  heartRate  glucose  \\\n",
      "0             0         0    195.0  106.0   70.0  26.97       80.0     77.0   \n",
      "1             0         0    250.0  121.0   81.0  28.73       95.0     76.0   \n",
      "2             0         0    245.0  127.5   80.0  25.34       75.0     70.0   \n",
      "3             1         0    225.0  150.0   95.0  28.58       65.0    103.0   \n",
      "4             0         0    285.0  130.0   84.0  23.10       85.0     85.0   \n",
      "\n",
      "   TenYearCHD  \n",
      "0           0  \n",
      "1           0  \n",
      "2           0  \n",
      "3           1  \n",
      "4           0   (3751, 15)\n",
      "0    3179\n",
      "1     572\n",
      "Name: TenYearCHD, dtype: int64\n"
     ]
    }
   ],
   "source": [
    "# removing NaN / NULL values \n",
    "disease_df.dropna(axis = 0, inplace = True) \n",
    "print(disease_df.head(), disease_df.shape) \n",
    "print(disease_df.TenYearCHD.value_counts()) "
   ]
  },
  {
   "cell_type": "code",
   "execution_count": 10,
   "metadata": {},
   "outputs": [
    {
     "data": {
      "image/png": "[encoded data removed]",
      "text/plain": [
       "<Figure size 504x360 with 1 Axes>"
      ]
     },
     "metadata": {
      "needs_background": "light"
     },
     "output_type": "display_data"
    }
   ],
   "source": [
    "# counting no. of patients affected with CHD \n",
    "plt.figure(figsize = (7, 5)) \n",
    "sn.countplot(x ='TenYearCHD', data = disease_df,  \n",
    "             palette =\"BuGn_r\" ) \n",
    "plt.show() "
   ]
  },
  {
   "cell_type": "code",
   "execution_count": 11,
   "metadata": {},
   "outputs": [
    {
     "data": {
      "image/png": "[encoded data removed]",
      "text/plain": [
       "<Figure size 432x288 with 1 Axes>"
      ]
     },
     "metadata": {
      "needs_background": "light"
     },
     "output_type": "display_data"
    }
   ],
   "source": [
    "laste = disease_df['TenYearCHD'].plot() \n",
    "plt.show(laste) "
   ]
  },
  {
   "cell_type": "code",
   "execution_count": 12,
   "metadata": {},
   "outputs": [
    {
     "name": "stdout",
     "output_type": "stream",
     "text": [
      "Train set: (2625, 6) (2625,)\n",
      "Test set: (1126, 6) (1126,)\n"
     ]
    }
   ],
   "source": [
    "X = np.asarray(disease_df[['age', 'Sex_male', 'cigsPerDay',  \n",
    "                           'totChol', 'sysBP', 'glucose']]) \n",
    "y = np.asarray(disease_df['TenYearCHD']) \n",
    "  \n",
    "# normalization of the datset \n",
    "X = preprocessing.StandardScaler().fit(X).transform(X) \n",
    "  \n",
    "# Train-and-Test -Split \n",
    "from sklearn.model_selection import train_test_split \n",
    "X_train, X_test, y_train, y_test = train_test_split(  \n",
    "        X, y, test_size = 0.3, random_state = 4) \n",
    "print ('Train set:', X_train.shape,  y_train.shape) \n",
    "print ('Test set:', X_test.shape,  y_test.shape) \n"
   ]
  },
  {
   "cell_type": "markdown",
   "metadata": {},
   "source": [
    "# Code: Modeling of the Dataset | Evaluation and Accuracy :"
   ]
  },
  {
   "cell_type": "code",
   "execution_count": 13,
   "metadata": {},
   "outputs": [
    {
     "name": "stdout",
     "output_type": "stream",
     "text": [
      "\n",
      "Accuracy of the model in jaccard similarity score is =  0.8490230905861457\n"
     ]
    },
    {
     "name": "stderr",
     "output_type": "stream",
     "text": [
      "C:\\Users\\yashr\\anaconda3\\lib\\site-packages\\sklearn\\metrics\\_classification.py:664: FutureWarning: jaccard_similarity_score has been deprecated and replaced with jaccard_score. It will be removed in version 0.23. This implementation has surprising behavior for binary and multiclass classification tasks.\n",
      "  FutureWarning)\n"
     ]
    }
   ],
   "source": [
    "from sklearn.linear_model import LogisticRegression \n",
    "logreg = LogisticRegression() \n",
    "logreg.fit(X_train, y_train) \n",
    "y_pred = logreg.predict(X_test) \n",
    "  \n",
    "# Evaluation and accuracy \n",
    "from sklearn.metrics import jaccard_similarity_score \n",
    "print('') \n",
    "print('Accuracy of the model in jaccard similarity score is = ',  \n",
    "      jaccard_similarity_score(y_test, y_pred)) "
   ]
  },
  {
   "cell_type": "markdown",
   "metadata": {},
   "source": [
    "# Code: Using Confusion Matrix to find the Acuuracy of the model :"
   ]
  },
  {
   "cell_type": "code",
   "execution_count": 14,
   "metadata": {},
   "outputs": [
    {
     "data": {
      "image/png": "[encoded data removed]",
      "text/plain": [
       "<Figure size 576x360 with 2 Axes>"
      ]
     },
     "metadata": {
      "needs_background": "light"
     },
     "output_type": "display_data"
    },
    {
     "name": "stdout",
     "output_type": "stream",
     "text": [
      "The details for confusion matrix is =\n",
      "              precision    recall  f1-score   support\n",
      "\n",
      "           0       0.85      0.99      0.92       951\n",
      "           1       0.61      0.08      0.14       175\n",
      "\n",
      "    accuracy                           0.85      1126\n",
      "   macro avg       0.73      0.54      0.53      1126\n",
      "weighted avg       0.82      0.85      0.80      1126\n",
      "\n"
     ]
    }
   ],
   "source": [
    "# Confusion matrix  \n",
    "from sklearn.metrics import confusion_matrix, classification_report \n",
    "  \n",
    "cm = confusion_matrix(y_test, y_pred) \n",
    "conf_matrix = pd.DataFrame(data = cm,  \n",
    "                           columns = ['Predicted:0', 'Predicted:1'],  \n",
    "                           index =['Actual:0', 'Actual:1']) \n",
    "plt.figure(figsize = (8, 5)) \n",
    "sn.heatmap(conf_matrix, annot = True, fmt = 'd', cmap = \"Greens\") \n",
    "plt.show() \n",
    "  \n",
    "print('The details for confusion matrix is =') \n",
    "print (classification_report(y_test, y_pred)) \n",
    "  \n",
    "# This code is contributed by parna_28 . \n"
   ]
  },
  {
   "cell_type": "code",
   "execution_count": null,
   "metadata": {},
   "outputs": [],
   "source": []
  }
 ],
 "metadata": {
  "kernelspec": {
   "display_name": "Python 3",
   "language": "python",
   "name": "python3"
  },
  "language_info": {
   "codemirror_mode": {
    "name": "ipython",
    "version": 3
   },
   "file_extension": ".py",
   "mimetype": "text/x-python",
   "name": "python",
   "nbconvert_exporter": "python",
   "pygments_lexer": "ipython3",
   "version": "3.7.6"
  }
 },
 "nbformat": 4,
 "nbformat_minor": 4
}
